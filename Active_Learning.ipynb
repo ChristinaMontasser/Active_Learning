{
  "nbformat": 4,
  "nbformat_minor": 0,
  "metadata": {
    "colab": {
      "provenance": []
    },
    "kernelspec": {
      "name": "python3",
      "display_name": "Python 3"
    },
    "language_info": {
      "name": "python"
    }
  },
  "cells": [
    {
      "cell_type": "markdown",
      "source": [
        "# Dataset 1\n"
      ],
      "metadata": {
        "id": "bj7rRJLNNu-X"
      }
    },
    {
      "cell_type": "markdown",
      "source": [
        "## Installs"
      ],
      "metadata": {
        "id": "lXgTazxG8XwY"
      }
    },
    {
      "cell_type": "code",
      "execution_count": null,
      "metadata": {
        "colab": {
          "base_uri": "https://localhost:8080/"
        },
        "id": "rSyef7MLmc3G",
        "outputId": "a704d57d-b2a6-4929-8102-bde39ad85db8"
      },
      "outputs": [
        {
          "output_type": "stream",
          "name": "stdout",
          "text": [
            "Looking in indexes: https://pypi.org/simple, https://us-python.pkg.dev/colab-wheels/public/simple/\n",
            "Requirement already satisfied: modAL in /usr/local/lib/python3.9/dist-packages (0.4.1)\n",
            "Requirement already satisfied: scipy>=0.18 in /usr/local/lib/python3.9/dist-packages (from modAL) (1.10.1)\n",
            "Requirement already satisfied: numpy>=1.13 in /usr/local/lib/python3.9/dist-packages (from modAL) (1.22.4)\n",
            "Requirement already satisfied: pandas>=1.1.0 in /usr/local/lib/python3.9/dist-packages (from modAL) (1.5.3)\n",
            "Requirement already satisfied: scikit-learn>=0.18 in /usr/local/lib/python3.9/dist-packages (from modAL) (1.2.2)\n",
            "Requirement already satisfied: pytz>=2020.1 in /usr/local/lib/python3.9/dist-packages (from pandas>=1.1.0->modAL) (2022.7.1)\n",
            "Requirement already satisfied: python-dateutil>=2.8.1 in /usr/local/lib/python3.9/dist-packages (from pandas>=1.1.0->modAL) (2.8.2)\n",
            "Requirement already satisfied: threadpoolctl>=2.0.0 in /usr/local/lib/python3.9/dist-packages (from scikit-learn>=0.18->modAL) (3.1.0)\n",
            "Requirement already satisfied: joblib>=1.1.1 in /usr/local/lib/python3.9/dist-packages (from scikit-learn>=0.18->modAL) (1.2.0)\n",
            "Requirement already satisfied: six>=1.5 in /usr/local/lib/python3.9/dist-packages (from python-dateutil>=2.8.1->pandas>=1.1.0->modAL) (1.16.0)\n"
          ]
        }
      ],
      "source": [
        "!pip install modAL"
      ]
    },
    {
      "cell_type": "code",
      "source": [
        "!pip install opendatasets\n"
      ],
      "metadata": {
        "colab": {
          "base_uri": "https://localhost:8080/"
        },
        "id": "ul87xfXir5pE",
        "outputId": "2f3413be-a3d4-4486-92da-d653ce36fca4"
      },
      "execution_count": null,
      "outputs": [
        {
          "output_type": "stream",
          "name": "stdout",
          "text": [
            "Looking in indexes: https://pypi.org/simple, https://us-python.pkg.dev/colab-wheels/public/simple/\n",
            "Requirement already satisfied: opendatasets in /usr/local/lib/python3.9/dist-packages (0.1.22)\n",
            "Requirement already satisfied: tqdm in /usr/local/lib/python3.9/dist-packages (from opendatasets) (4.65.0)\n",
            "Requirement already satisfied: click in /usr/local/lib/python3.9/dist-packages (from opendatasets) (8.1.3)\n",
            "Requirement already satisfied: kaggle in /usr/local/lib/python3.9/dist-packages (from opendatasets) (1.5.13)\n",
            "Requirement already satisfied: python-dateutil in /usr/local/lib/python3.9/dist-packages (from kaggle->opendatasets) (2.8.2)\n",
            "Requirement already satisfied: python-slugify in /usr/local/lib/python3.9/dist-packages (from kaggle->opendatasets) (8.0.1)\n",
            "Requirement already satisfied: requests in /usr/local/lib/python3.9/dist-packages (from kaggle->opendatasets) (2.27.1)\n",
            "Requirement already satisfied: certifi in /usr/local/lib/python3.9/dist-packages (from kaggle->opendatasets) (2022.12.7)\n",
            "Requirement already satisfied: six>=1.10 in /usr/local/lib/python3.9/dist-packages (from kaggle->opendatasets) (1.16.0)\n",
            "Requirement already satisfied: urllib3 in /usr/local/lib/python3.9/dist-packages (from kaggle->opendatasets) (1.26.15)\n",
            "Requirement already satisfied: text-unidecode>=1.3 in /usr/local/lib/python3.9/dist-packages (from python-slugify->kaggle->opendatasets) (1.3)\n",
            "Requirement already satisfied: idna<4,>=2.5 in /usr/local/lib/python3.9/dist-packages (from requests->kaggle->opendatasets) (3.4)\n",
            "Requirement already satisfied: charset-normalizer~=2.0.0 in /usr/local/lib/python3.9/dist-packages (from requests->kaggle->opendatasets) (2.0.12)\n"
          ]
        }
      ]
    },
    {
      "cell_type": "code",
      "source": [
        "import opendatasets as od\n",
        "import pandas as pd\n",
        "import numpy as np\n",
        "import random\n",
        "from sklearn.model_selection import train_test_split\n",
        "from modAL.models import ActiveLearner\n",
        "from sklearn.linear_model import LogisticRegression\n",
        "from modAL.uncertainty import entropy_sampling\n",
        "from sklearn.metrics import accuracy_score\n",
        "from sklearn.ensemble import RandomForestClassifier\n",
        "from functools import partial\n",
        "from modAL.batch import uncertainty_batch_sampling\n"
      ],
      "metadata": {
        "id": "mE_-G5M4sbKK"
      },
      "execution_count": null,
      "outputs": []
    },
    {
      "cell_type": "markdown",
      "source": [
        "## Data"
      ],
      "metadata": {
        "id": "yJKGalZ5HbPM"
      }
    },
    {
      "cell_type": "code",
      "source": [
        "od.download(\"https://www.kaggle.com/datasets/brendan45774/test-file\")"
      ],
      "metadata": {
        "colab": {
          "base_uri": "https://localhost:8080/"
        },
        "id": "1o1LPsr5r9h7",
        "outputId": "7845faf2-5a51-4a57-f3b0-8e71eb8a0d36"
      },
      "execution_count": null,
      "outputs": [
        {
          "output_type": "stream",
          "name": "stdout",
          "text": [
            "Skipping, found downloaded files in \"./test-file\" (use force=True to force download)\n"
          ]
        }
      ]
    },
    {
      "cell_type": "code",
      "source": [
        "df = pd.read_csv(\"/content/smoke-detection-dataset/smoke_detection_iot.csv\")\n",
        "df = df.dropna()\n",
        "df.head()"
      ],
      "metadata": {
        "colab": {
          "base_uri": "https://localhost:8080/",
          "height": 287
        },
        "id": "DhvZFF4Krl6X",
        "outputId": "69d05b08-b442-4497-b913-8dcde64bb1a9"
      },
      "execution_count": null,
      "outputs": [
        {
          "output_type": "execute_result",
          "data": {
            "text/plain": [
              "   Unnamed: 0         UTC  Temperature[C]  Humidity[%]  TVOC[ppb]  eCO2[ppm]  \\\n",
              "0           0  1654733331          20.000        57.36          0        400   \n",
              "1           1  1654733332          20.015        56.67          0        400   \n",
              "2           2  1654733333          20.029        55.96          0        400   \n",
              "3           3  1654733334          20.044        55.28          0        400   \n",
              "4           4  1654733335          20.059        54.69          0        400   \n",
              "\n",
              "   Raw H2  Raw Ethanol  Pressure[hPa]  PM1.0  PM2.5  NC0.5  NC1.0  NC2.5  CNT  \\\n",
              "0   12306        18520        939.735    0.0    0.0    0.0    0.0    0.0    0   \n",
              "1   12345        18651        939.744    0.0    0.0    0.0    0.0    0.0    1   \n",
              "2   12374        18764        939.738    0.0    0.0    0.0    0.0    0.0    2   \n",
              "3   12390        18849        939.736    0.0    0.0    0.0    0.0    0.0    3   \n",
              "4   12403        18921        939.744    0.0    0.0    0.0    0.0    0.0    4   \n",
              "\n",
              "   Fire Alarm  \n",
              "0           0  \n",
              "1           0  \n",
              "2           0  \n",
              "3           0  \n",
              "4           0  "
            ],
            "text/html": [
              "\n",
              "  <div id=\"df-02fc37aa-21e0-42e8-9edb-dee0b54ac1c6\">\n",
              "    <div class=\"colab-df-container\">\n",
              "      <div>\n",
              "<style scoped>\n",
              "    .dataframe tbody tr th:only-of-type {\n",
              "        vertical-align: middle;\n",
              "    }\n",
              "\n",
              "    .dataframe tbody tr th {\n",
              "        vertical-align: top;\n",
              "    }\n",
              "\n",
              "    .dataframe thead th {\n",
              "        text-align: right;\n",
              "    }\n",
              "</style>\n",
              "<table border=\"1\" class=\"dataframe\">\n",
              "  <thead>\n",
              "    <tr style=\"text-align: right;\">\n",
              "      <th></th>\n",
              "      <th>Unnamed: 0</th>\n",
              "      <th>UTC</th>\n",
              "      <th>Temperature[C]</th>\n",
              "      <th>Humidity[%]</th>\n",
              "      <th>TVOC[ppb]</th>\n",
              "      <th>eCO2[ppm]</th>\n",
              "      <th>Raw H2</th>\n",
              "      <th>Raw Ethanol</th>\n",
              "      <th>Pressure[hPa]</th>\n",
              "      <th>PM1.0</th>\n",
              "      <th>PM2.5</th>\n",
              "      <th>NC0.5</th>\n",
              "      <th>NC1.0</th>\n",
              "      <th>NC2.5</th>\n",
              "      <th>CNT</th>\n",
              "      <th>Fire Alarm</th>\n",
              "    </tr>\n",
              "  </thead>\n",
              "  <tbody>\n",
              "    <tr>\n",
              "      <th>0</th>\n",
              "      <td>0</td>\n",
              "      <td>1654733331</td>\n",
              "      <td>20.000</td>\n",
              "      <td>57.36</td>\n",
              "      <td>0</td>\n",
              "      <td>400</td>\n",
              "      <td>12306</td>\n",
              "      <td>18520</td>\n",
              "      <td>939.735</td>\n",
              "      <td>0.0</td>\n",
              "      <td>0.0</td>\n",
              "      <td>0.0</td>\n",
              "      <td>0.0</td>\n",
              "      <td>0.0</td>\n",
              "      <td>0</td>\n",
              "      <td>0</td>\n",
              "    </tr>\n",
              "    <tr>\n",
              "      <th>1</th>\n",
              "      <td>1</td>\n",
              "      <td>1654733332</td>\n",
              "      <td>20.015</td>\n",
              "      <td>56.67</td>\n",
              "      <td>0</td>\n",
              "      <td>400</td>\n",
              "      <td>12345</td>\n",
              "      <td>18651</td>\n",
              "      <td>939.744</td>\n",
              "      <td>0.0</td>\n",
              "      <td>0.0</td>\n",
              "      <td>0.0</td>\n",
              "      <td>0.0</td>\n",
              "      <td>0.0</td>\n",
              "      <td>1</td>\n",
              "      <td>0</td>\n",
              "    </tr>\n",
              "    <tr>\n",
              "      <th>2</th>\n",
              "      <td>2</td>\n",
              "      <td>1654733333</td>\n",
              "      <td>20.029</td>\n",
              "      <td>55.96</td>\n",
              "      <td>0</td>\n",
              "      <td>400</td>\n",
              "      <td>12374</td>\n",
              "      <td>18764</td>\n",
              "      <td>939.738</td>\n",
              "      <td>0.0</td>\n",
              "      <td>0.0</td>\n",
              "      <td>0.0</td>\n",
              "      <td>0.0</td>\n",
              "      <td>0.0</td>\n",
              "      <td>2</td>\n",
              "      <td>0</td>\n",
              "    </tr>\n",
              "    <tr>\n",
              "      <th>3</th>\n",
              "      <td>3</td>\n",
              "      <td>1654733334</td>\n",
              "      <td>20.044</td>\n",
              "      <td>55.28</td>\n",
              "      <td>0</td>\n",
              "      <td>400</td>\n",
              "      <td>12390</td>\n",
              "      <td>18849</td>\n",
              "      <td>939.736</td>\n",
              "      <td>0.0</td>\n",
              "      <td>0.0</td>\n",
              "      <td>0.0</td>\n",
              "      <td>0.0</td>\n",
              "      <td>0.0</td>\n",
              "      <td>3</td>\n",
              "      <td>0</td>\n",
              "    </tr>\n",
              "    <tr>\n",
              "      <th>4</th>\n",
              "      <td>4</td>\n",
              "      <td>1654733335</td>\n",
              "      <td>20.059</td>\n",
              "      <td>54.69</td>\n",
              "      <td>0</td>\n",
              "      <td>400</td>\n",
              "      <td>12403</td>\n",
              "      <td>18921</td>\n",
              "      <td>939.744</td>\n",
              "      <td>0.0</td>\n",
              "      <td>0.0</td>\n",
              "      <td>0.0</td>\n",
              "      <td>0.0</td>\n",
              "      <td>0.0</td>\n",
              "      <td>4</td>\n",
              "      <td>0</td>\n",
              "    </tr>\n",
              "  </tbody>\n",
              "</table>\n",
              "</div>\n",
              "      <button class=\"colab-df-convert\" onclick=\"convertToInteractive('df-02fc37aa-21e0-42e8-9edb-dee0b54ac1c6')\"\n",
              "              title=\"Convert this dataframe to an interactive table.\"\n",
              "              style=\"display:none;\">\n",
              "        \n",
              "  <svg xmlns=\"http://www.w3.org/2000/svg\" height=\"24px\"viewBox=\"0 0 24 24\"\n",
              "       width=\"24px\">\n",
              "    <path d=\"M0 0h24v24H0V0z\" fill=\"none\"/>\n",
              "    <path d=\"M18.56 5.44l.94 2.06.94-2.06 2.06-.94-2.06-.94-.94-2.06-.94 2.06-2.06.94zm-11 1L8.5 8.5l.94-2.06 2.06-.94-2.06-.94L8.5 2.5l-.94 2.06-2.06.94zm10 10l.94 2.06.94-2.06 2.06-.94-2.06-.94-.94-2.06-.94 2.06-2.06.94z\"/><path d=\"M17.41 7.96l-1.37-1.37c-.4-.4-.92-.59-1.43-.59-.52 0-1.04.2-1.43.59L10.3 9.45l-7.72 7.72c-.78.78-.78 2.05 0 2.83L4 21.41c.39.39.9.59 1.41.59.51 0 1.02-.2 1.41-.59l7.78-7.78 2.81-2.81c.8-.78.8-2.07 0-2.86zM5.41 20L4 18.59l7.72-7.72 1.47 1.35L5.41 20z\"/>\n",
              "  </svg>\n",
              "      </button>\n",
              "      \n",
              "  <style>\n",
              "    .colab-df-container {\n",
              "      display:flex;\n",
              "      flex-wrap:wrap;\n",
              "      gap: 12px;\n",
              "    }\n",
              "\n",
              "    .colab-df-convert {\n",
              "      background-color: #E8F0FE;\n",
              "      border: none;\n",
              "      border-radius: 50%;\n",
              "      cursor: pointer;\n",
              "      display: none;\n",
              "      fill: #1967D2;\n",
              "      height: 32px;\n",
              "      padding: 0 0 0 0;\n",
              "      width: 32px;\n",
              "    }\n",
              "\n",
              "    .colab-df-convert:hover {\n",
              "      background-color: #E2EBFA;\n",
              "      box-shadow: 0px 1px 2px rgba(60, 64, 67, 0.3), 0px 1px 3px 1px rgba(60, 64, 67, 0.15);\n",
              "      fill: #174EA6;\n",
              "    }\n",
              "\n",
              "    [theme=dark] .colab-df-convert {\n",
              "      background-color: #3B4455;\n",
              "      fill: #D2E3FC;\n",
              "    }\n",
              "\n",
              "    [theme=dark] .colab-df-convert:hover {\n",
              "      background-color: #434B5C;\n",
              "      box-shadow: 0px 1px 3px 1px rgba(0, 0, 0, 0.15);\n",
              "      filter: drop-shadow(0px 1px 2px rgba(0, 0, 0, 0.3));\n",
              "      fill: #FFFFFF;\n",
              "    }\n",
              "  </style>\n",
              "\n",
              "      <script>\n",
              "        const buttonEl =\n",
              "          document.querySelector('#df-02fc37aa-21e0-42e8-9edb-dee0b54ac1c6 button.colab-df-convert');\n",
              "        buttonEl.style.display =\n",
              "          google.colab.kernel.accessAllowed ? 'block' : 'none';\n",
              "\n",
              "        async function convertToInteractive(key) {\n",
              "          const element = document.querySelector('#df-02fc37aa-21e0-42e8-9edb-dee0b54ac1c6');\n",
              "          const dataTable =\n",
              "            await google.colab.kernel.invokeFunction('convertToInteractive',\n",
              "                                                     [key], {});\n",
              "          if (!dataTable) return;\n",
              "\n",
              "          const docLinkHtml = 'Like what you see? Visit the ' +\n",
              "            '<a target=\"_blank\" href=https://colab.research.google.com/notebooks/data_table.ipynb>data table notebook</a>'\n",
              "            + ' to learn more about interactive tables.';\n",
              "          element.innerHTML = '';\n",
              "          dataTable['output_type'] = 'display_data';\n",
              "          await google.colab.output.renderOutput(dataTable, element);\n",
              "          const docLink = document.createElement('div');\n",
              "          docLink.innerHTML = docLinkHtml;\n",
              "          element.appendChild(docLink);\n",
              "        }\n",
              "      </script>\n",
              "    </div>\n",
              "  </div>\n",
              "  "
            ]
          },
          "metadata": {},
          "execution_count": 101
        }
      ]
    },
    {
      "cell_type": "markdown",
      "source": [
        "### Imbalancing test\n"
      ],
      "metadata": {
        "id": "Q5l83A3-bijL"
      }
    },
    {
      "cell_type": "code",
      "source": [
        "# class count\n",
        "class_count_1, class_count_0 = df['Fire Alarm'].value_counts()\n",
        "\n",
        "# Separate class\n",
        "class_0 = df[df['Fire Alarm'] == 0]\n",
        "class_1 = df[df['Fire Alarm'] == 1]# print the shape of the class\n",
        "print('class 0:', class_0.shape)\n",
        "print('class 1:', class_1.shape)"
      ],
      "metadata": {
        "colab": {
          "base_uri": "https://localhost:8080/"
        },
        "id": "jLkdVTZnbnZr",
        "outputId": "96ed2de1-5bf8-45b0-b178-a04df9e16d92"
      },
      "execution_count": null,
      "outputs": [
        {
          "output_type": "stream",
          "name": "stdout",
          "text": [
            "class 0: (17873, 16)\n",
            "class 1: (44757, 16)\n"
          ]
        }
      ]
    },
    {
      "cell_type": "code",
      "source": [
        "class_1_under = class_1.sample(class_count_0)\n",
        "\n",
        "df_balanced = pd.concat([class_1_under, class_0], axis=0)\n",
        "\n",
        "print(\"total class of 1 and0:\", df_balanced['Fire Alarm'].value_counts())# plot the count after under-sampeling\n",
        "df_balanced['Fire Alarm'].value_counts().plot(kind='bar', title='count (target)')"
      ],
      "metadata": {
        "colab": {
          "base_uri": "https://localhost:8080/",
          "height": 516
        },
        "id": "HQpcIsvMb0v4",
        "outputId": "7ee6d9d4-13e7-42d6-ac33-0865fa3eaaa4"
      },
      "execution_count": null,
      "outputs": [
        {
          "output_type": "stream",
          "name": "stdout",
          "text": [
            "total class of 1 and0: 1    17873\n",
            "0    17873\n",
            "Name: Fire Alarm, dtype: int64\n"
          ]
        },
        {
          "output_type": "execute_result",
          "data": {
            "text/plain": [
              "<Axes: title={'center': 'count (target)'}>"
            ]
          },
          "metadata": {},
          "execution_count": 93
        },
        {
          "output_type": "display_data",
          "data": {
            "text/plain": [
              "<Figure size 640x480 with 1 Axes>"
            ],
            "image/png": "[encoded data removed]"
          },
          "metadata": {}
        }
      ]
    },
    {
      "cell_type": "markdown",
      "source": [
        "### Imbalanced data"
      ],
      "metadata": {
        "id": "RQOrOa5_cg1P"
      }
    },
    {
      "cell_type": "code",
      "source": [
        "df.drop(['Unnamed: 0', 'UTC'], axis=1, inplace=True)\n",
        "y_Imb= df[\"Fire Alarm\"]\n",
        "X_Imb = df.drop([\"Fire Alarm\"],axis=\"columns\")\n",
        "X_Imb.isna().sum()"
      ],
      "metadata": {
        "colab": {
          "base_uri": "https://localhost:8080/"
        },
        "id": "LvBBAafok-nW",
        "outputId": "8b05cbe7-451c-4926-94cd-091a717607e8"
      },
      "execution_count": null,
      "outputs": [
        {
          "output_type": "execute_result",
          "data": {
            "text/plain": [
              "Temperature[C]    0\n",
              "Humidity[%]       0\n",
              "TVOC[ppb]         0\n",
              "eCO2[ppm]         0\n",
              "Raw H2            0\n",
              "Raw Ethanol       0\n",
              "Pressure[hPa]     0\n",
              "PM1.0             0\n",
              "PM2.5             0\n",
              "NC0.5             0\n",
              "NC1.0             0\n",
              "NC2.5             0\n",
              "CNT               0\n",
              "dtype: int64"
            ]
          },
          "metadata": {},
          "execution_count": 103
        }
      ]
    },
    {
      "cell_type": "code",
      "source": [
        "y_Imb = y_Imb.to_numpy()\n",
        "X_Imb = X_Imb.to_numpy()"
      ],
      "metadata": {
        "id": "WQKUGJpxYRkU"
      },
      "execution_count": null,
      "outputs": []
    },
    {
      "cell_type": "markdown",
      "source": [
        "### Balanced"
      ],
      "metadata": {
        "id": "nMRCpShaclLe"
      }
    },
    {
      "cell_type": "code",
      "source": [
        "df_balanced.drop(['Unnamed: 0', 'UTC'], axis=1, inplace=True)\n",
        "y= df_balanced[\"Fire Alarm\"]\n",
        "X = df_balanced.drop([\"Fire Alarm\"],axis=\"columns\")\n",
        "X.isna().sum()"
      ],
      "metadata": {
        "colab": {
          "base_uri": "https://localhost:8080/"
        },
        "id": "hS9W70l6bgdQ",
        "outputId": "dd8e71ba-7f7f-4943-d70d-8df87c4c071a"
      },
      "execution_count": null,
      "outputs": [
        {
          "output_type": "execute_result",
          "data": {
            "text/plain": [
              "Temperature[C]    0\n",
              "Humidity[%]       0\n",
              "TVOC[ppb]         0\n",
              "eCO2[ppm]         0\n",
              "Raw H2            0\n",
              "Raw Ethanol       0\n",
              "Pressure[hPa]     0\n",
              "PM1.0             0\n",
              "PM2.5             0\n",
              "NC0.5             0\n",
              "NC1.0             0\n",
              "NC2.5             0\n",
              "CNT               0\n",
              "dtype: int64"
            ]
          },
          "metadata": {},
          "execution_count": 94
        }
      ]
    },
    {
      "cell_type": "code",
      "source": [
        "y= y.to_numpy()\n",
        "X = X.to_numpy()"
      ],
      "metadata": {
        "id": "edhnV2KCc5px"
      },
      "execution_count": null,
      "outputs": []
    },
    {
      "cell_type": "code",
      "source": [
        "X.shape"
      ],
      "metadata": {
        "colab": {
          "base_uri": "https://localhost:8080/"
        },
        "id": "B708c79227uM",
        "outputId": "499fa078-12f7-45ac-b634-19c2d23c5cc4"
      },
      "execution_count": null,
      "outputs": [
        {
          "output_type": "execute_result",
          "data": {
            "text/plain": [
              "(35746, 13)"
            ]
          },
          "metadata": {},
          "execution_count": 96
        }
      ]
    },
    {
      "cell_type": "markdown",
      "source": [
        "## Models"
      ],
      "metadata": {
        "id": "6gFSdp0cljO8"
      }
    },
    {
      "cell_type": "code",
      "source": [
        "def random_sampling(classifier, X_pool):\n",
        "    n_samples = X_pool.shape[0]\n",
        "    query_idx = np.random.choice(range(n_samples))\n",
        "    return query_idx\n"
      ],
      "metadata": {
        "id": "mINqYo88oHpW"
      },
      "execution_count": null,
      "outputs": []
    },
    {
      "cell_type": "code",
      "source": [
        "class Active_Learning:\n",
        "  def __init__(self, X, y, estimator, strategy, val, BATCH_SIZE=1) -> None:\n",
        "    self.val = val\n",
        "    self.BATCH_SIZE =BATCH_SIZE\n",
        "\n",
        "    #Data\n",
        "    random.seed(1)\n",
        "    X_train, self.X_test, y_train, self.y_test = train_test_split(X, y, test_size=0.3, shuffle=True)\n",
        "    self.X_pool, self.X_train, self.y_pool, self.y_train  = train_test_split(X_train, y_train, test_size=0.01, shuffle=True)\n",
        "    if(self.val):\n",
        "      self.X_train, self.X_val, self.y_train, self.y_val = train_test_split(self.X_train, self.y_train, test_size=0.7, random_state=42)\n",
        "    print(self.X_train.shape)\n",
        "    print(self.X_test.shape)\n",
        "    print(self.X_val.shape)\n",
        "    print(self.X_pool.shape)\n",
        "    self.learner = ActiveLearner(\n",
        "        estimator=estimator,\n",
        "        query_strategy=strategy,\n",
        "        X_training=self.X_train, y_training=self.y_train\n",
        "\n",
        "    )\n",
        "  # def random_sampling(self, classifier):\n",
        "  #   n_samples = len(self.X_pool)\n",
        "  #   query_idx = np.random.choice(range(n_samples))\n",
        "  #   return query_idx, self.X_pool[query_idx]\n",
        "\n",
        "  def oracle(self, query_idx):\n",
        "    # simulate an oracle by asking a human annotator for the label\n",
        "    return self.y_pool[query_idx]\n",
        "\n",
        "  def start(self, n_queries):\n",
        "    for idx in range(n_queries):\n",
        "        query_idx, query_inst = self.learner.query(self.X_pool)\n",
        "        y_new = self.oracle(query_idx)\n",
        "        self.learner.teach(self.X_pool[query_idx].reshape(self.BATCH_SIZE, -1), y_new.reshape(self.BATCH_SIZE, ))\n",
        "        self.X_pool, self.y_pool = np.delete(self.X_pool, query_idx, axis=0), np.delete(self.y_pool, query_idx)\n",
        "        if(self.val):\n",
        "          y_pred = self.learner.predict(self.X_val)\n",
        "          acc = accuracy_score(self.y_val, y_pred)\n",
        "          print(\"Validation Accuracy: {}\".format(acc))\n",
        "\n",
        "    print(\"Accuracy: {}\".format(accuracy_score(self.learner.predict(self.X_test), self.y_test)))\n"
      ],
      "metadata": {
        "id": "Dah9aQgUMJbj"
      },
      "execution_count": null,
      "outputs": []
    },
    {
      "cell_type": "code",
      "source": [
        "Learner_0 = Active_Learning(X, y, LogisticRegression(max_iter=1000), random_sampling, True)\n",
        "Learner_0.start(5)"
      ],
      "metadata": {
        "colab": {
          "base_uri": "https://localhost:8080/"
        },
        "id": "Jr72VmtojjHk",
        "outputId": "0db590f2-5bc7-4ff8-bb7c-750795c370ca"
      },
      "execution_count": null,
      "outputs": [
        {
          "output_type": "stream",
          "name": "stdout",
          "text": [
            "(75, 13)\n",
            "(10724, 13)\n",
            "(176, 13)\n",
            "(24771, 13)\n",
            "Validation Accuracy: 0.9715909090909091\n",
            "Validation Accuracy: 0.9715909090909091\n",
            "Validation Accuracy: 0.9715909090909091\n",
            "Validation Accuracy: 0.9715909090909091\n",
            "Validation Accuracy: 0.9715909090909091\n",
            "Accuracy: 0.9696008951883626\n"
          ]
        }
      ]
    },
    {
      "cell_type": "code",
      "source": [
        "Learner_1 = Active_Learning(X, y, LogisticRegression(max_iter=1000), entropy_sampling, True)\n",
        "Learner_1.start(10)"
      ],
      "metadata": {
        "colab": {
          "base_uri": "https://localhost:8080/"
        },
        "id": "iSe8tZprTlFN",
        "outputId": "5384741e-0d96-4320-c9de-dbdde9136150"
      },
      "execution_count": null,
      "outputs": [
        {
          "output_type": "stream",
          "name": "stdout",
          "text": [
            "(75, 13)\n",
            "(10724, 13)\n",
            "(176, 13)\n",
            "(24771, 13)\n",
            "Validation Accuracy: 0.9659090909090909\n",
            "Validation Accuracy: 0.9659090909090909\n",
            "Validation Accuracy: 0.9659090909090909\n",
            "Validation Accuracy: 0.9715909090909091\n",
            "Validation Accuracy: 0.9715909090909091\n",
            "Validation Accuracy: 0.9715909090909091\n",
            "Validation Accuracy: 0.9715909090909091\n",
            "Validation Accuracy: 0.9715909090909091\n",
            "Validation Accuracy: 0.9715909090909091\n",
            "Validation Accuracy: 0.9715909090909091\n",
            "Accuracy: 0.9726781051846326\n"
          ]
        }
      ]
    },
    {
      "cell_type": "code",
      "source": [
        "Learner_2 = Active_Learning(X, y, RandomForestClassifier(), entropy_sampling, True)\n",
        "Learner_2.start(5)"
      ],
      "metadata": {
        "colab": {
          "base_uri": "https://localhost:8080/"
        },
        "id": "eGXbIvckA8n1",
        "outputId": "1b01d200-76c0-4a01-906b-19898617d70b"
      },
      "execution_count": null,
      "outputs": [
        {
          "output_type": "stream",
          "name": "stdout",
          "text": [
            "(75, 13)\n",
            "(10724, 13)\n",
            "(176, 13)\n",
            "(24771, 13)\n",
            "Validation Accuracy: 0.9431818181818182\n",
            "Validation Accuracy: 0.9772727272727273\n",
            "Validation Accuracy: 0.9829545454545454\n",
            "Validation Accuracy: 0.9886363636363636\n",
            "Validation Accuracy: 0.9829545454545454\n",
            "Accuracy: 0.9890898918314062\n"
          ]
        }
      ]
    },
    {
      "cell_type": "code",
      "source": [
        "#Batch\n",
        "Learner_3 = Active_Learning(X, y, RandomForestClassifier(), uncertainty_batch_sampling, True, 3)\n",
        "Learner_3.start(5)"
      ],
      "metadata": {
        "colab": {
          "base_uri": "https://localhost:8080/"
        },
        "id": "VPlgF7loSvn7",
        "outputId": "fefc1052-d558-4f27-e1a8-ed3af9884079"
      },
      "execution_count": null,
      "outputs": [
        {
          "output_type": "stream",
          "name": "stdout",
          "text": [
            "(75, 13)\n",
            "(10724, 13)\n",
            "(176, 13)\n",
            "(24771, 13)\n",
            "Validation Accuracy: 0.9886363636363636\n",
            "Validation Accuracy: 0.9886363636363636\n",
            "Validation Accuracy: 1.0\n",
            "Validation Accuracy: 0.9943181818181818\n",
            "Validation Accuracy: 0.9943181818181818\n",
            "Accuracy: 0.9875046624393883\n"
          ]
        }
      ]
    },
    {
      "cell_type": "markdown",
      "source": [
        "### Imbalanced Model"
      ],
      "metadata": {
        "id": "OzPzE29dHiSm"
      }
    },
    {
      "cell_type": "code",
      "source": [
        "Learner_1 = Active_Learning(X_Imb, y_Imb, LogisticRegression(max_iter=1000), entropy_sampling, True)\n",
        "Learner_1.start(10)"
      ],
      "metadata": {
        "colab": {
          "base_uri": "https://localhost:8080/"
        },
        "id": "QbaBuog-Hkj1",
        "outputId": "c0b507ec-e260-4de1-d0cf-bee08935e5f9"
      },
      "execution_count": null,
      "outputs": [
        {
          "output_type": "stream",
          "name": "stdout",
          "text": [
            "(131, 13)\n",
            "(18789, 13)\n",
            "(308, 13)\n",
            "(43402, 13)\n",
            "Validation Accuracy: 0.987012987012987\n",
            "Validation Accuracy: 0.987012987012987\n",
            "Validation Accuracy: 0.9805194805194806\n",
            "Validation Accuracy: 0.9805194805194806\n",
            "Validation Accuracy: 0.9772727272727273\n",
            "Validation Accuracy: 0.9772727272727273\n",
            "Validation Accuracy: 0.9772727272727273\n",
            "Validation Accuracy: 0.9772727272727273\n",
            "Validation Accuracy: 0.9772727272727273\n",
            "Validation Accuracy: 0.9772727272727273\n",
            "Accuracy: 0.978444834743733\n"
          ]
        }
      ]
    },
    {
      "cell_type": "code",
      "source": [
        "#Batch\n",
        "Learner_3 = Active_Learning(X_Imb, y_Imb, RandomForestClassifier(), entropy_sampling, True)\n",
        "Learner_3.start(5)"
      ],
      "metadata": {
        "colab": {
          "base_uri": "https://localhost:8080/"
        },
        "id": "5m8jWocnYizx",
        "outputId": "12d16f8a-ba5f-4207-dc27-3b4cd4a04520"
      },
      "execution_count": null,
      "outputs": [
        {
          "output_type": "stream",
          "name": "stdout",
          "text": [
            "(131, 13)\n",
            "(18789, 13)\n",
            "(308, 13)\n",
            "(43402, 13)\n",
            "Validation Accuracy: 0.9967532467532467\n",
            "Validation Accuracy: 0.9935064935064936\n",
            "Validation Accuracy: 0.9967532467532467\n",
            "Validation Accuracy: 0.9967532467532467\n",
            "Validation Accuracy: 0.9935064935064936\n",
            "Accuracy: 0.9981904305710788\n"
          ]
        }
      ]
    },
    {
      "cell_type": "markdown",
      "source": [
        "## Committee"
      ],
      "metadata": {
        "id": "dHx8fxw9LMzP"
      }
    },
    {
      "cell_type": "code",
      "source": [
        "from modAL.models import ActiveLearner, Committee\n",
        "from modAL.disagreement import vote_entropy, KL_max_disagreement\n",
        "from sklearn.ensemble import RandomForestClassifier\n",
        "\n",
        "random.seed(1)\n",
        "X_train, X_test, y_train, y_test = train_test_split(X, y, test_size=0.4, shuffle=True)\n",
        "X_pool, X_train, y_pool, y_train  = train_test_split(X_train, y_train, test_size=0.4, shuffle=True)\n",
        "X_train, X_val, y_train, y_val = train_test_split(X_train, y_train, test_size=0.2, random_state=42)\n"
      ],
      "metadata": {
        "id": "NYhDGN32MCvx"
      },
      "execution_count": null,
      "outputs": []
    },
    {
      "cell_type": "code",
      "source": [
        "# create a committee of three random forest classifiers\n",
        "n_members = 3\n",
        "committee = Committee(\n",
        "    learner_list=[ActiveLearner(\n",
        "        estimator=RandomForestClassifier(),\n",
        "        X_training=X_train, y_training=y_train,\n",
        "        query_strategy=KL_max_disagreement\n",
        "    ) for _ in range(n_members)]\n",
        ")\n",
        "\n",
        "# query the most informative instances\n",
        "n_queries = 10\n",
        "batch_size = 1\n",
        "for idx in range(n_queries):\n",
        "    query_idx, query_instance = committee.query(X_pool, n_instances=batch_size)\n",
        "    y_pred = committee.predict(query_instance)\n",
        "    # supply labels for queried instances\n",
        "    committee.teach(query_instance, y_pred)\n",
        "\n",
        "    X_pool, y_pool = np.delete(X_pool, query_idx, axis=0), np.delete(y_pool, query_idx)\n",
        "\n",
        "    y_pred = committee.predict(X_val)\n",
        "    acc = accuracy_score(y_val, y_pred)\n",
        "    print(\"Accuracy after query {}: {}\".format(idx+1, acc))\n",
        "\n",
        "print(\"Accuracy: {}\".format(accuracy_score(committee.predict(X_test), y_test)))"
      ],
      "metadata": {
        "colab": {
          "base_uri": "https://localhost:8080/"
        },
        "id": "gIkXzhJPbojQ",
        "outputId": "bd85dfd2-7a1a-43e3-9236-0240e30fc936"
      },
      "execution_count": null,
      "outputs": [
        {
          "output_type": "stream",
          "name": "stdout",
          "text": [
            "Accuracy after query 1: 0.9994172494172494\n",
            "Accuracy after query 2: 0.9988344988344988\n",
            "Accuracy after query 3: 0.9988344988344988\n",
            "Accuracy after query 4: 0.9988344988344988\n",
            "Accuracy after query 5: 0.9988344988344988\n",
            "Accuracy after query 6: 0.9988344988344988\n",
            "Accuracy after query 7: 0.9988344988344988\n",
            "Accuracy after query 8: 0.9988344988344988\n",
            "Accuracy after query 9: 0.9994172494172494\n",
            "Accuracy after query 10: 0.9994172494172494\n",
            "Accuracy: 0.999720260158053\n"
          ]
        }
      ]
    },
    {
      "cell_type": "code",
      "source": [
        "# create a committee of three random forest classifiers\n",
        "n_members = 3\n",
        "committee_2 = Committee(\n",
        "    learner_list=[ActiveLearner(\n",
        "        estimator=RandomForestClassifier(),\n",
        "        X_training=X_train, y_training=y_train,\n",
        "        query_strategy=KL_max_disagreement\n",
        "    ),\n",
        "    ActiveLearner(\n",
        "        estimator=RandomForestClassifier(),\n",
        "        X_training=X_train, y_training=y_train,\n",
        "        query_strategy=vote_entropy\n",
        "    ),\n",
        "    ActiveLearner(\n",
        "        estimator=LogisticRegression(max_iter=1000),\n",
        "        X_training=X_train, y_training=y_train,\n",
        "        query_strategy=vote_entropy\n",
        "    )]\n",
        ")\n",
        "\n",
        "# query the most informative instances\n",
        "n_queries = 10\n",
        "batch_size = 5\n",
        "for idx in range(n_queries):\n",
        "    query_idx, query_instance = committee.query(X_pool, n_instances=batch_size)\n",
        "    y_pred = committee.predict(query_instance)\n",
        "    # supply labels for queried instances\n",
        "    committee.teach(query_instance, y_pred)\n",
        "\n",
        "    X_pool, y_pool = np.delete(X_pool, query_idx, axis=0), np.delete(y_pool, query_idx)\n",
        "\n",
        "    y_pred = committee.predict(X_val)\n",
        "    acc = accuracy_score(y_val, y_pred)\n",
        "    print(\"Accuracy after query {}: {}\".format(idx+1, acc))\n",
        "\n",
        "print(\"Accuracy: {}\".format(accuracy_score(committee.predict(X_test), y_test)))"
      ],
      "metadata": {
        "id": "s4O-8Q57dexg",
        "colab": {
          "base_uri": "https://localhost:8080/"
        },
        "outputId": "7ce9c229-ff56-4f86-e020-52689b7d8332"
      },
      "execution_count": null,
      "outputs": [
        {
          "output_type": "stream",
          "name": "stdout",
          "text": [
            "Accuracy after query 1: 0.9994172494172494\n",
            "Accuracy after query 2: 0.9994172494172494\n",
            "Accuracy after query 3: 0.9994172494172494\n",
            "Accuracy after query 4: 0.9994172494172494\n",
            "Accuracy after query 5: 0.9994172494172494\n",
            "Accuracy after query 6: 0.9994172494172494\n",
            "Accuracy after query 7: 0.9994172494172494\n",
            "Accuracy after query 8: 0.9994172494172494\n",
            "Accuracy after query 9: 0.9994172494172494\n",
            "Accuracy after query 10: 0.9994172494172494\n",
            "Accuracy: 0.9997901951185397\n"
          ]
        }
      ]
    },
    {
      "cell_type": "markdown",
      "source": [
        "# Dataset 2 Regression"
      ],
      "metadata": {
        "id": "uPBLfuDXN6uX"
      }
    },
    {
      "cell_type": "code",
      "source": [
        "od.download(\"https://www.kaggle.com/datasets/harlfoxem/housesalesprediction\")\n",
        "df_reg = pd.read_csv(\"/content/housesalesprediction/kc_house_data.csv\")\n",
        "df_reg = df_reg.dropna()\n",
        "df_reg.head()"
      ],
      "metadata": {
        "colab": {
          "base_uri": "https://localhost:8080/",
          "height": 317
        },
        "id": "ZLaD2u5BOtCy",
        "outputId": "e6d48630-a64a-4b26-aeed-28724842dd1f"
      },
      "execution_count": null,
      "outputs": [
        {
          "output_type": "stream",
          "name": "stdout",
          "text": [
            "Skipping, found downloaded files in \"./housesalesprediction\" (use force=True to force download)\n"
          ]
        },
        {
          "output_type": "execute_result",
          "data": {
            "text/plain": [
              "           id             date     price  bedrooms  bathrooms  sqft_living  \\\n",
              "0  7129300520  20141013T000000  221900.0         3       1.00         1180   \n",
              "1  6414100192  20141209T000000  538000.0         3       2.25         2570   \n",
              "2  5631500400  20150225T000000  180000.0         2       1.00          770   \n",
              "3  2487200875  20141209T000000  604000.0         4       3.00         1960   \n",
              "4  1954400510  20150218T000000  510000.0         3       2.00         1680   \n",
              "\n",
              "   sqft_lot  floors  waterfront  view  ...  grade  sqft_above  sqft_basement  \\\n",
              "0      5650     1.0           0     0  ...      7        1180              0   \n",
              "1      7242     2.0           0     0  ...      7        2170            400   \n",
              "2     10000     1.0           0     0  ...      6         770              0   \n",
              "3      5000     1.0           0     0  ...      7        1050            910   \n",
              "4      8080     1.0           0     0  ...      8        1680              0   \n",
              "\n",
              "   yr_built  yr_renovated  zipcode      lat     long  sqft_living15  \\\n",
              "0      1955             0    98178  47.5112 -122.257           1340   \n",
              "1      1951          1991    98125  47.7210 -122.319           1690   \n",
              "2      1933             0    98028  47.7379 -122.233           2720   \n",
              "3      1965             0    98136  47.5208 -122.393           1360   \n",
              "4      1987             0    98074  47.6168 -122.045           1800   \n",
              "\n",
              "   sqft_lot15  \n",
              "0        5650  \n",
              "1        7639  \n",
              "2        8062  \n",
              "3        5000  \n",
              "4        7503  \n",
              "\n",
              "[5 rows x 21 columns]"
            ],
            "text/html": [
              "\n",
              "  <div id=\"df-104523fa-aa0f-41a0-b7ca-cacfc0450fa5\">\n",
              "    <div class=\"colab-df-container\">\n",
              "      <div>\n",
              "<style scoped>\n",
              "    .dataframe tbody tr th:only-of-type {\n",
              "        vertical-align: middle;\n",
              "    }\n",
              "\n",
              "    .dataframe tbody tr th {\n",
              "        vertical-align: top;\n",
              "    }\n",
              "\n",
              "    .dataframe thead th {\n",
              "        text-align: right;\n",
              "    }\n",
              "</style>\n",
              "<table border=\"1\" class=\"dataframe\">\n",
              "  <thead>\n",
              "    <tr style=\"text-align: right;\">\n",
              "      <th></th>\n",
              "      <th>id</th>\n",
              "      <th>date</th>\n",
              "      <th>price</th>\n",
              "      <th>bedrooms</th>\n",
              "      <th>bathrooms</th>\n",
              "      <th>sqft_living</th>\n",
              "      <th>sqft_lot</th>\n",
              "      <th>floors</th>\n",
              "      <th>waterfront</th>\n",
              "      <th>view</th>\n",
              "      <th>...</th>\n",
              "      <th>grade</th>\n",
              "      <th>sqft_above</th>\n",
              "      <th>sqft_basement</th>\n",
              "      <th>yr_built</th>\n",
              "      <th>yr_renovated</th>\n",
              "      <th>zipcode</th>\n",
              "      <th>lat</th>\n",
              "      <th>long</th>\n",
              "      <th>sqft_living15</th>\n",
              "      <th>sqft_lot15</th>\n",
              "    </tr>\n",
              "  </thead>\n",
              "  <tbody>\n",
              "    <tr>\n",
              "      <th>0</th>\n",
              "      <td>7129300520</td>\n",
              "      <td>20141013T000000</td>\n",
              "      <td>221900.0</td>\n",
              "      <td>3</td>\n",
              "      <td>1.00</td>\n",
              "      <td>1180</td>\n",
              "      <td>5650</td>\n",
              "      <td>1.0</td>\n",
              "      <td>0</td>\n",
              "      <td>0</td>\n",
              "      <td>...</td>\n",
              "      <td>7</td>\n",
              "      <td>1180</td>\n",
              "      <td>0</td>\n",
              "      <td>1955</td>\n",
              "      <td>0</td>\n",
              "      <td>98178</td>\n",
              "      <td>47.5112</td>\n",
              "      <td>-122.257</td>\n",
              "      <td>1340</td>\n",
              "      <td>5650</td>\n",
              "    </tr>\n",
              "    <tr>\n",
              "      <th>1</th>\n",
              "      <td>6414100192</td>\n",
              "      <td>20141209T000000</td>\n",
              "      <td>538000.0</td>\n",
              "      <td>3</td>\n",
              "      <td>2.25</td>\n",
              "      <td>2570</td>\n",
              "      <td>7242</td>\n",
              "      <td>2.0</td>\n",
              "      <td>0</td>\n",
              "      <td>0</td>\n",
              "      <td>...</td>\n",
              "      <td>7</td>\n",
              "      <td>2170</td>\n",
              "      <td>400</td>\n",
              "      <td>1951</td>\n",
              "      <td>1991</td>\n",
              "      <td>98125</td>\n",
              "      <td>47.7210</td>\n",
              "      <td>-122.319</td>\n",
              "      <td>1690</td>\n",
              "      <td>7639</td>\n",
              "    </tr>\n",
              "    <tr>\n",
              "      <th>2</th>\n",
              "      <td>5631500400</td>\n",
              "      <td>20150225T000000</td>\n",
              "      <td>180000.0</td>\n",
              "      <td>2</td>\n",
              "      <td>1.00</td>\n",
              "      <td>770</td>\n",
              "      <td>10000</td>\n",
              "      <td>1.0</td>\n",
              "      <td>0</td>\n",
              "      <td>0</td>\n",
              "      <td>...</td>\n",
              "      <td>6</td>\n",
              "      <td>770</td>\n",
              "      <td>0</td>\n",
              "      <td>1933</td>\n",
              "      <td>0</td>\n",
              "      <td>98028</td>\n",
              "      <td>47.7379</td>\n",
              "      <td>-122.233</td>\n",
              "      <td>2720</td>\n",
              "      <td>8062</td>\n",
              "    </tr>\n",
              "    <tr>\n",
              "      <th>3</th>\n",
              "      <td>2487200875</td>\n",
              "      <td>20141209T000000</td>\n",
              "      <td>604000.0</td>\n",
              "      <td>4</td>\n",
              "      <td>3.00</td>\n",
              "      <td>1960</td>\n",
              "      <td>5000</td>\n",
              "      <td>1.0</td>\n",
              "      <td>0</td>\n",
              "      <td>0</td>\n",
              "      <td>...</td>\n",
              "      <td>7</td>\n",
              "      <td>1050</td>\n",
              "      <td>910</td>\n",
              "      <td>1965</td>\n",
              "      <td>0</td>\n",
              "      <td>98136</td>\n",
              "      <td>47.5208</td>\n",
              "      <td>-122.393</td>\n",
              "      <td>1360</td>\n",
              "      <td>5000</td>\n",
              "    </tr>\n",
              "    <tr>\n",
              "      <th>4</th>\n",
              "      <td>1954400510</td>\n",
              "      <td>20150218T000000</td>\n",
              "      <td>510000.0</td>\n",
              "      <td>3</td>\n",
              "      <td>2.00</td>\n",
              "      <td>1680</td>\n",
              "      <td>8080</td>\n",
              "      <td>1.0</td>\n",
              "      <td>0</td>\n",
              "      <td>0</td>\n",
              "      <td>...</td>\n",
              "      <td>8</td>\n",
              "      <td>1680</td>\n",
              "      <td>0</td>\n",
              "      <td>1987</td>\n",
              "      <td>0</td>\n",
              "      <td>98074</td>\n",
              "      <td>47.6168</td>\n",
              "      <td>-122.045</td>\n",
              "      <td>1800</td>\n",
              "      <td>7503</td>\n",
              "    </tr>\n",
              "  </tbody>\n",
              "</table>\n",
              "<p>5 rows × 21 columns</p>\n",
              "</div>\n",
              "      <button class=\"colab-df-convert\" onclick=\"convertToInteractive('df-104523fa-aa0f-41a0-b7ca-cacfc0450fa5')\"\n",
              "              title=\"Convert this dataframe to an interactive table.\"\n",
              "              style=\"display:none;\">\n",
              "        \n",
              "  <svg xmlns=\"http://www.w3.org/2000/svg\" height=\"24px\"viewBox=\"0 0 24 24\"\n",
              "       width=\"24px\">\n",
              "    <path d=\"M0 0h24v24H0V0z\" fill=\"none\"/>\n",
              "    <path d=\"M18.56 5.44l.94 2.06.94-2.06 2.06-.94-2.06-.94-.94-2.06-.94 2.06-2.06.94zm-11 1L8.5 8.5l.94-2.06 2.06-.94-2.06-.94L8.5 2.5l-.94 2.06-2.06.94zm10 10l.94 2.06.94-2.06 2.06-.94-2.06-.94-.94-2.06-.94 2.06-2.06.94z\"/><path d=\"M17.41 7.96l-1.37-1.37c-.4-.4-.92-.59-1.43-.59-.52 0-1.04.2-1.43.59L10.3 9.45l-7.72 7.72c-.78.78-.78 2.05 0 2.83L4 21.41c.39.39.9.59 1.41.59.51 0 1.02-.2 1.41-.59l7.78-7.78 2.81-2.81c.8-.78.8-2.07 0-2.86zM5.41 20L4 18.59l7.72-7.72 1.47 1.35L5.41 20z\"/>\n",
              "  </svg>\n",
              "      </button>\n",
              "      \n",
              "  <style>\n",
              "    .colab-df-container {\n",
              "      display:flex;\n",
              "      flex-wrap:wrap;\n",
              "      gap: 12px;\n",
              "    }\n",
              "\n",
              "    .colab-df-convert {\n",
              "      background-color: #E8F0FE;\n",
              "      border: none;\n",
              "      border-radius: 50%;\n",
              "      cursor: pointer;\n",
              "      display: none;\n",
              "      fill: #1967D2;\n",
              "      height: 32px;\n",
              "      padding: 0 0 0 0;\n",
              "      width: 32px;\n",
              "    }\n",
              "\n",
              "    .colab-df-convert:hover {\n",
              "      background-color: #E2EBFA;\n",
              "      box-shadow: 0px 1px 2px rgba(60, 64, 67, 0.3), 0px 1px 3px 1px rgba(60, 64, 67, 0.15);\n",
              "      fill: #174EA6;\n",
              "    }\n",
              "\n",
              "    [theme=dark] .colab-df-convert {\n",
              "      background-color: #3B4455;\n",
              "      fill: #D2E3FC;\n",
              "    }\n",
              "\n",
              "    [theme=dark] .colab-df-convert:hover {\n",
              "      background-color: #434B5C;\n",
              "      box-shadow: 0px 1px 3px 1px rgba(0, 0, 0, 0.15);\n",
              "      filter: drop-shadow(0px 1px 2px rgba(0, 0, 0, 0.3));\n",
              "      fill: #FFFFFF;\n",
              "    }\n",
              "  </style>\n",
              "\n",
              "      <script>\n",
              "        const buttonEl =\n",
              "          document.querySelector('#df-104523fa-aa0f-41a0-b7ca-cacfc0450fa5 button.colab-df-convert');\n",
              "        buttonEl.style.display =\n",
              "          google.colab.kernel.accessAllowed ? 'block' : 'none';\n",
              "\n",
              "        async function convertToInteractive(key) {\n",
              "          const element = document.querySelector('#df-104523fa-aa0f-41a0-b7ca-cacfc0450fa5');\n",
              "          const dataTable =\n",
              "            await google.colab.kernel.invokeFunction('convertToInteractive',\n",
              "                                                     [key], {});\n",
              "          if (!dataTable) return;\n",
              "\n",
              "          const docLinkHtml = 'Like what you see? Visit the ' +\n",
              "            '<a target=\"_blank\" href=https://colab.research.google.com/notebooks/data_table.ipynb>data table notebook</a>'\n",
              "            + ' to learn more about interactive tables.';\n",
              "          element.innerHTML = '';\n",
              "          dataTable['output_type'] = 'display_data';\n",
              "          await google.colab.output.renderOutput(dataTable, element);\n",
              "          const docLink = document.createElement('div');\n",
              "          docLink.innerHTML = docLinkHtml;\n",
              "          element.appendChild(docLink);\n",
              "        }\n",
              "      </script>\n",
              "    </div>\n",
              "  </div>\n",
              "  "
            ]
          },
          "metadata": {},
          "execution_count": 4
        }
      ]
    },
    {
      "cell_type": "code",
      "source": [
        "df_reg.info()"
      ],
      "metadata": {
        "colab": {
          "base_uri": "https://localhost:8080/"
        },
        "id": "kLMC7ZnGOzsb",
        "outputId": "22564f11-fd2b-40f5-d6af-796e068e072d"
      },
      "execution_count": null,
      "outputs": [
        {
          "output_type": "stream",
          "name": "stdout",
          "text": [
            "<class 'pandas.core.frame.DataFrame'>\n",
            "RangeIndex: 21613 entries, 0 to 21612\n",
            "Data columns (total 21 columns):\n",
            " #   Column         Non-Null Count  Dtype  \n",
            "---  ------         --------------  -----  \n",
            " 0   id             21613 non-null  int64  \n",
            " 1   date           21613 non-null  object \n",
            " 2   price          21613 non-null  float64\n",
            " 3   bedrooms       21613 non-null  int64  \n",
            " 4   bathrooms      21613 non-null  float64\n",
            " 5   sqft_living    21613 non-null  int64  \n",
            " 6   sqft_lot       21613 non-null  int64  \n",
            " 7   floors         21613 non-null  float64\n",
            " 8   waterfront     21613 non-null  int64  \n",
            " 9   view           21613 non-null  int64  \n",
            " 10  condition      21613 non-null  int64  \n",
            " 11  grade          21613 non-null  int64  \n",
            " 12  sqft_above     21613 non-null  int64  \n",
            " 13  sqft_basement  21613 non-null  int64  \n",
            " 14  yr_built       21613 non-null  int64  \n",
            " 15  yr_renovated   21613 non-null  int64  \n",
            " 16  zipcode        21613 non-null  int64  \n",
            " 17  lat            21613 non-null  float64\n",
            " 18  long           21613 non-null  float64\n",
            " 19  sqft_living15  21613 non-null  int64  \n",
            " 20  sqft_lot15     21613 non-null  int64  \n",
            "dtypes: float64(5), int64(15), object(1)\n",
            "memory usage: 3.5+ MB\n"
          ]
        }
      ]
    },
    {
      "cell_type": "code",
      "source": [
        "df_reg.drop(['date'], axis=1, inplace=True)\n"
      ],
      "metadata": {
        "id": "SZcwGmByQ_Is"
      },
      "execution_count": null,
      "outputs": []
    },
    {
      "cell_type": "code",
      "source": [
        "X_reg= df_reg.drop([\"price\"], axis =1).to_numpy()\n",
        "y_reg= df_reg['price'].to_numpy()"
      ],
      "metadata": {
        "id": "6ukrjtQIO3FF"
      },
      "execution_count": null,
      "outputs": []
    },
    {
      "cell_type": "code",
      "source": [
        "random.seed(1)\n",
        "X_reg_train, X_reg_test, y_reg_train, y_reg_test = train_test_split(X_reg, y_reg, test_size=0.3, shuffle=True)\n",
        "X_reg_pool, X_reg_train, y_reg_pool, y_reg_train  = train_test_split(X_reg_train, y_reg_train, test_size=0.4, shuffle=True)\n",
        "X_reg_train, X_reg_val, y_reg_train, y_reg_val = train_test_split(X_reg_train, y_reg_train, test_size=0.2, random_state=42)"
      ],
      "metadata": {
        "id": "4p9Fzci3RSRb"
      },
      "execution_count": null,
      "outputs": []
    },
    {
      "cell_type": "markdown",
      "source": [
        "### Models"
      ],
      "metadata": {
        "id": "lJhpYak-XtiJ"
      }
    },
    {
      "cell_type": "code",
      "source": [
        "from modAL.models import ActiveLearner, CommitteeRegressor\n",
        "from modAL.disagreement import max_std_sampling\n",
        "from sklearn.linear_model import LinearRegression\n",
        "from sklearn.ensemble import RandomForestRegressor\n",
        "from sklearn.metrics import r2_score\n",
        "\n",
        "def Learn(learner, n_queries, X_reg_pool, y_reg_pool, X_reg_val, y_reg_val, X_reg_test, y_reg_test,batch_size=1):\n",
        "  # query the most informative instances\n",
        "  for idx in range(n_queries):\n",
        "      query_idx, query_instance = learner.query(X_reg_pool, batch_size)\n",
        "      y_pred= y_reg_pool[query_idx]\n",
        "      #print(X_reg_pool[query_idx].shape)\n",
        "      # print(y_pred)\n",
        "      # print(query_idx)\n",
        "      learner.teach(X_reg_pool[query_idx], y_pred)\n",
        "      X_reg_pool, y_reg_pool = np.delete(X_reg_pool, query_idx, axis=0), np.delete(y_reg_pool, query_idx)\n",
        "      y_pred, _= learner.predict(X_reg_val, return_std=True)\n",
        "      acc = r2_score(y_reg_val, y_pred)\n",
        "      print(\"Accuracy after query {}: {}\".format(idx+1, acc))\n",
        "\n",
        "  print(\"Accuracy: {}\".format(r2_score(learner.predict(X_reg_test), y_reg_test)))"
      ],
      "metadata": {
        "id": "ZHQhmsAq_tk8"
      },
      "execution_count": null,
      "outputs": []
    },
    {
      "cell_type": "markdown",
      "source": [],
      "metadata": {
        "id": "yYZUd9wy_2wO"
      }
    },
    {
      "cell_type": "code",
      "source": [
        "committee_2 = CommitteeRegressor(\n",
        "    learner_list=[ActiveLearner(\n",
        "        estimator=LinearRegression(),\n",
        "        X_training=X_reg_train, y_training=y_reg_train,\n",
        "        query_strategy=max_std_sampling\n",
        "    )])\n",
        "\n",
        "\n",
        "Learn(committee_2,  10, X_reg_pool, y_reg_pool, X_reg_val, y_reg_val, X_reg_test, y_reg_test)"
      ],
      "metadata": {
        "colab": {
          "base_uri": "https://localhost:8080/"
        },
        "id": "BLLp2teE-bJa",
        "outputId": "6f81b110-8a54-4858-f4d8-2a3135868a25"
      },
      "execution_count": null,
      "outputs": [
        {
          "output_type": "stream",
          "name": "stdout",
          "text": [
            "Accuracy after query 1: 0.7072681077079637\n",
            "Accuracy after query 2: 0.7072455853135111\n",
            "Accuracy after query 3: 0.7072210092991259\n",
            "Accuracy after query 4: 0.707218634266046\n",
            "Accuracy after query 5: 0.7072244098025051\n",
            "Accuracy after query 6: 0.7072230569330278\n",
            "Accuracy after query 7: 0.7072231135445188\n",
            "Accuracy after query 8: 0.7071995764860848\n",
            "Accuracy after query 9: 0.7071462537013744\n",
            "Accuracy after query 10: 0.7071421092318955\n",
            "Accuracy: 0.5561474508053382\n"
          ]
        }
      ]
    },
    {
      "cell_type": "code",
      "source": [
        "# create a committee of three random forest regressors\n",
        "committee = CommitteeRegressor(\n",
        "    learner_list=[ActiveLearner(\n",
        "        estimator=LinearRegression(),\n",
        "        X_training=X_reg_train, y_training=y_reg_train,\n",
        "        query_strategy=max_std_sampling\n",
        "    ),\n",
        "    ActiveLearner(estimator=RandomForestRegressor(bootstrap=True),\n",
        "        X_training=X_reg_train, y_training=y_reg_train,\n",
        "        query_strategy=max_std_sampling\n",
        "    ),\n",
        "     ActiveLearner(estimator=RandomForestRegressor(),\n",
        "        X_training=X_reg_train, y_training=y_reg_train,\n",
        "        query_strategy=max_std_sampling\n",
        "    )]\n",
        ")\n",
        "\n",
        "Learn(committee,  10, X_reg_pool, y_reg_pool, X_reg_val, y_reg_val, X_reg_test, y_reg_test)"
      ],
      "metadata": {
        "colab": {
          "base_uri": "https://localhost:8080/"
        },
        "id": "0s3Frb8rSVE8",
        "outputId": "c243d39c-fb83-4c9d-b185-b8c3c53bd47a"
      },
      "execution_count": null,
      "outputs": [
        {
          "output_type": "stream",
          "name": "stdout",
          "text": [
            "Accuracy after query 1: 0.8501330276263401\n",
            "Accuracy after query 2: 0.8460312020028449\n",
            "Accuracy after query 3: 0.839992008947152\n",
            "Accuracy after query 4: 0.8335338831248187\n",
            "Accuracy after query 5: 0.8357011795723098\n",
            "Accuracy after query 6: 0.8355898155228502\n",
            "Accuracy after query 7: 0.836213006601105\n",
            "Accuracy after query 8: 0.8329333405690884\n",
            "Accuracy after query 9: 0.8346112010171371\n",
            "Accuracy after query 10: 0.8341527638054314\n",
            "Accuracy: 0.7732301677975764\n"
          ]
        }
      ]
    }
  ]
}